{
 "cells": [
  {
   "cell_type": "code",
   "execution_count": 1,
   "id": "89624a94-779c-4866-afa4-4b97cb6884b5",
   "metadata": {},
   "outputs": [],
   "source": [
    "import pandas as pd"
   ]
  },
  {
   "cell_type": "code",
   "execution_count": 3,
   "id": "ab00c397-397f-4a44-9e2c-849b8b612d94",
   "metadata": {},
   "outputs": [],
   "source": [
    "import matplotlib.pyplot as plt\n",
    "import seaborn as sns\n",
    "import numpy as np\n",
    "%matplotlib inline"
   ]
  },
  {
   "cell_type": "code",
   "execution_count": 23,
   "id": "d34e3407-123b-429f-8aa4-fbec6ff9506b",
   "metadata": {},
   "outputs": [],
   "source": [
    "df = pd.read_csv(r'C:\\Users\\Lenovo\\Desktop\\Ironhack\\WEEK 5\\LABS\\LAB- EDA  Univariate Analysis\\EXCEL LAB\\amz_uk_price_prediction_dataset.csv')"
   ]
  },
  {
   "cell_type": "code",
   "execution_count": 29,
   "id": "a9e5d7dc-7999-4603-8d85-c6410731ff2b",
   "metadata": {},
   "outputs": [
    {
     "data": {
      "text/html": [
       "<div>\n",
       "<style scoped>\n",
       "    .dataframe tbody tr th:only-of-type {\n",
       "        vertical-align: middle;\n",
       "    }\n",
       "\n",
       "    .dataframe tbody tr th {\n",
       "        vertical-align: top;\n",
       "    }\n",
       "\n",
       "    .dataframe thead th {\n",
       "        text-align: right;\n",
       "    }\n",
       "</style>\n",
       "<table border=\"1\" class=\"dataframe\">\n",
       "  <thead>\n",
       "    <tr style=\"text-align: right;\">\n",
       "      <th></th>\n",
       "      <th>uid</th>\n",
       "      <th>asin</th>\n",
       "      <th>title</th>\n",
       "      <th>stars</th>\n",
       "      <th>reviews</th>\n",
       "      <th>price</th>\n",
       "      <th>isBestSeller</th>\n",
       "      <th>boughtInLastMonth</th>\n",
       "      <th>category</th>\n",
       "    </tr>\n",
       "  </thead>\n",
       "  <tbody>\n",
       "    <tr>\n",
       "      <th>0</th>\n",
       "      <td>1</td>\n",
       "      <td>B09B96TG33</td>\n",
       "      <td>Echo Dot (5th generation, 2022 release) | Big ...</td>\n",
       "      <td>4.7</td>\n",
       "      <td>15308</td>\n",
       "      <td>21.99</td>\n",
       "      <td>False</td>\n",
       "      <td>0</td>\n",
       "      <td>Hi-Fi Speakers</td>\n",
       "    </tr>\n",
       "    <tr>\n",
       "      <th>1</th>\n",
       "      <td>2</td>\n",
       "      <td>B01HTH3C8S</td>\n",
       "      <td>Anker Soundcore mini, Super-Portable Bluetooth...</td>\n",
       "      <td>4.7</td>\n",
       "      <td>98099</td>\n",
       "      <td>23.99</td>\n",
       "      <td>True</td>\n",
       "      <td>0</td>\n",
       "      <td>Hi-Fi Speakers</td>\n",
       "    </tr>\n",
       "    <tr>\n",
       "      <th>2</th>\n",
       "      <td>3</td>\n",
       "      <td>B09B8YWXDF</td>\n",
       "      <td>Echo Dot (5th generation, 2022 release) | Big ...</td>\n",
       "      <td>4.7</td>\n",
       "      <td>15308</td>\n",
       "      <td>21.99</td>\n",
       "      <td>False</td>\n",
       "      <td>0</td>\n",
       "      <td>Hi-Fi Speakers</td>\n",
       "    </tr>\n",
       "    <tr>\n",
       "      <th>3</th>\n",
       "      <td>4</td>\n",
       "      <td>B09B8T5VGV</td>\n",
       "      <td>Echo Dot with clock (5th generation, 2022 rele...</td>\n",
       "      <td>4.7</td>\n",
       "      <td>7205</td>\n",
       "      <td>31.99</td>\n",
       "      <td>False</td>\n",
       "      <td>0</td>\n",
       "      <td>Hi-Fi Speakers</td>\n",
       "    </tr>\n",
       "    <tr>\n",
       "      <th>4</th>\n",
       "      <td>5</td>\n",
       "      <td>B09WX6QD65</td>\n",
       "      <td>Introducing Echo Pop | Full sound compact Wi-F...</td>\n",
       "      <td>4.6</td>\n",
       "      <td>1881</td>\n",
       "      <td>17.99</td>\n",
       "      <td>False</td>\n",
       "      <td>0</td>\n",
       "      <td>Hi-Fi Speakers</td>\n",
       "    </tr>\n",
       "  </tbody>\n",
       "</table>\n",
       "</div>"
      ],
      "text/plain": [
       "   uid        asin                                              title  stars  \\\n",
       "0    1  B09B96TG33  Echo Dot (5th generation, 2022 release) | Big ...    4.7   \n",
       "1    2  B01HTH3C8S  Anker Soundcore mini, Super-Portable Bluetooth...    4.7   \n",
       "2    3  B09B8YWXDF  Echo Dot (5th generation, 2022 release) | Big ...    4.7   \n",
       "3    4  B09B8T5VGV  Echo Dot with clock (5th generation, 2022 rele...    4.7   \n",
       "4    5  B09WX6QD65  Introducing Echo Pop | Full sound compact Wi-F...    4.6   \n",
       "\n",
       "   reviews  price  isBestSeller  boughtInLastMonth        category  \n",
       "0    15308  21.99         False                  0  Hi-Fi Speakers  \n",
       "1    98099  23.99          True                  0  Hi-Fi Speakers  \n",
       "2    15308  21.99         False                  0  Hi-Fi Speakers  \n",
       "3     7205  31.99         False                  0  Hi-Fi Speakers  \n",
       "4     1881  17.99         False                  0  Hi-Fi Speakers  "
      ]
     },
     "execution_count": 29,
     "metadata": {},
     "output_type": "execute_result"
    }
   ],
   "source": [
    "df.head()\n"
   ]
  },
  {
   "cell_type": "code",
   "execution_count": 35,
   "id": "4a24b93f-1324-490a-95fc-ec8b32b7ae94",
   "metadata": {},
   "outputs": [
    {
     "data": {
      "text/plain": [
       "(2443651, 9)"
      ]
     },
     "execution_count": 35,
     "metadata": {},
     "output_type": "execute_result"
    }
   ],
   "source": [
    "df.shape\n"
   ]
  },
  {
   "cell_type": "code",
   "execution_count": 39,
   "id": "f3714ece-30d8-4aba-bbde-5e22364e509f",
   "metadata": {},
   "outputs": [
    {
     "data": {
      "text/plain": [
       "uid                    int64\n",
       "asin                  object\n",
       "title                 object\n",
       "stars                float64\n",
       "reviews                int64\n",
       "price                float64\n",
       "isBestSeller            bool\n",
       "boughtInLastMonth      int64\n",
       "category              object\n",
       "dtype: object"
      ]
     },
     "execution_count": 39,
     "metadata": {},
     "output_type": "execute_result"
    }
   ],
   "source": [
    "df.dtypes"
   ]
  },
  {
   "cell_type": "code",
   "execution_count": 41,
   "id": "ffc70e41-2fb2-44a9-a936-2fec72635b68",
   "metadata": {},
   "outputs": [
    {
     "data": {
      "text/plain": [
       "uid                  0\n",
       "asin                 0\n",
       "title                0\n",
       "stars                0\n",
       "reviews              0\n",
       "price                0\n",
       "isBestSeller         0\n",
       "boughtInLastMonth    0\n",
       "category             0\n",
       "dtype: int64"
      ]
     },
     "execution_count": 41,
     "metadata": {},
     "output_type": "execute_result"
    }
   ],
   "source": [
    "df.isnull().sum().sort_values(ascending=False)"
   ]
  },
  {
   "cell_type": "code",
   "execution_count": null,
   "id": "2d946c6b-d218-4456-bf45-27d1f909a5b6",
   "metadata": {},
   "outputs": [],
   "source": [
    "#### Part 1: Understanding Product Categories\n",
    "\n",
    "#**Business Question**: What are the most popular product categories on Amazon UK, and how do they compare in terms of listing frequency?\n"
   ]
  },
  {
   "cell_type": "code",
   "execution_count": 47,
   "id": "afad2da1-36a6-4b11-90b4-610e81f425c6",
   "metadata": {},
   "outputs": [
    {
     "name": "stdout",
     "output_type": "stream",
     "text": [
      "category\n",
      "Sports & Outdoors                         836265\n",
      "Beauty                                     19312\n",
      "Handmade Clothing, Shoes & Accessories     19229\n",
      "Bath & Body                                19092\n",
      "Birthday Gifts                             18978\n",
      "                                           ...  \n",
      "Alexa Built-In Devices                       107\n",
      "Motorbike Chassis                            107\n",
      "Plugs                                        107\n",
      "Smart Home Security & Lighting               104\n",
      "Smart Speakers                                54\n",
      "Name: count, Length: 296, dtype: int64\n"
     ]
    }
   ],
   "source": [
    "category_unique_values = df['category'].value_counts()\n",
    "print(category_unique_values)"
   ]
  },
  {
   "cell_type": "code",
   "execution_count": 51,
   "id": "5e8ba954-35a6-4418-90c2-6a6bb59d65ec",
   "metadata": {},
   "outputs": [
    {
     "data": {
      "text/plain": [
       "category\n",
       "Sports & Outdoors                         0.342219\n",
       "Beauty                                    0.007903\n",
       "Handmade Clothing, Shoes & Accessories    0.007869\n",
       "Bath & Body                               0.007813\n",
       "Birthday Gifts                            0.007766\n",
       "                                            ...   \n",
       "Alexa Built-In Devices                    0.000044\n",
       "Motorbike Chassis                         0.000044\n",
       "Plugs                                     0.000044\n",
       "Smart Home Security & Lighting            0.000043\n",
       "Smart Speakers                            0.000022\n",
       "Name: proportion, Length: 296, dtype: float64"
      ]
     },
     "execution_count": 51,
     "metadata": {},
     "output_type": "execute_result"
    }
   ],
   "source": [
    "#how do they compare in terms of listing frequency?\n",
    "\n",
    "frequency_category_values = df['category'].value_counts(normalize=True)\n",
    "frequency_category_values\n",
    "\n",
    "#1. **Frequency Tables**:\n",
    "\n",
    " #   - Generate a frequency table for the product `category`.\n",
    " #   - Which are the top 5 most listed product categories?\n",
    "\n",
    "\n",
    "#resultados: 34% Sport/ Beauty "
   ]
  },
  {
   "cell_type": "code",
   "execution_count": null,
   "id": "40db30df-0557-48dd-96fb-67d17a370ce3",
   "metadata": {},
   "outputs": [],
   "source": [
    "# Sports & Outdoors: (0.342219 \\times 100 = 34.22%)\n",
    "# Beauty: (0.007903 \\times 100 = 0.79%)\n",
    "# Handmade Clothing, Shoes & Accessories: (0.007869 \\times 100 = 0.79%)\n",
    "# Bath & Body: (0.007813 \\times 100 = 0.78%)\n",
    "# Birthday Gifts: (0.007766 \\times 100 = 0.78%)"
   ]
  },
  {
   "cell_type": "code",
   "execution_count": null,
   "id": "8c45784c-4b8d-4722-bdc1-3e22539a77f0",
   "metadata": {},
   "outputs": [],
   "source": [
    "#2. **Visualizations**:\n",
    "#    - Display the distribution of products across different categories using a bar chart:\n",
    "# *If you face problems understanding the chart, do it for a subset of top categories.*\n",
    "#    - For a subset of top categories, visualize their proportions using a pie chart. Does any category dominate the listings?\n"
   ]
  },
  {
   "cell_type": "code",
   "execution_count": 56,
   "id": "165b1fcc-991f-438d-9c2e-d442ab797a38",
   "metadata": {},
   "outputs": [
    {
     "name": "stderr",
     "output_type": "stream",
     "text": [
      "C:\\Users\\Lenovo\\AppData\\Local\\Temp\\ipykernel_13692\\3472468491.py:1: FutureWarning: \n",
      "\n",
      "Passing `palette` without assigning `hue` is deprecated and will be removed in v0.14.0. Assign the `x` variable to `hue` and set `legend=False` for the same effect.\n",
      "\n",
      "  sns.barplot(x=frequency_category_values.index, y=frequency_category_values.values, palette=\"Set3\");\n"
     ]
    },
    {
     "data": {
      "image/png": "[encoded data removed]",
      "text/plain": [
       "<Figure size 640x480 with 1 Axes>"
      ]
     },
     "metadata": {},
     "output_type": "display_data"
    }
   ],
   "source": [
    "sns.barplot(x=frequency_category_values.index, y=frequency_category_values.values, palette=\"Set3\");\n",
    "plt.show()"
   ]
  },
  {
   "cell_type": "code",
   "execution_count": 58,
   "id": "51b7e299-6aff-4425-a50f-0465a190b7d6",
   "metadata": {},
   "outputs": [
    {
     "data": {
      "text/plain": [
       "category\n",
       "Sports & Outdoors                         0.342219\n",
       "Beauty                                    0.007903\n",
       "Handmade Clothing, Shoes & Accessories    0.007869\n",
       "Bath & Body                               0.007813\n",
       "Birthday Gifts                            0.007766\n",
       "Name: proportion, dtype: float64"
      ]
     },
     "execution_count": 58,
     "metadata": {},
     "output_type": "execute_result"
    }
   ],
   "source": [
    "# Seleccionar las cinco principales categorías\n",
    "top5_categories = frequency_category_values.nlargest(5)\n",
    "top5_categories"
   ]
  },
  {
   "cell_type": "code",
   "execution_count": 62,
   "id": "a17f5023-35c6-4993-81c5-4656c38f267b",
   "metadata": {},
   "outputs": [
    {
     "name": "stderr",
     "output_type": "stream",
     "text": [
      "C:\\Users\\Lenovo\\AppData\\Local\\Temp\\ipykernel_13692\\2060071823.py:1: FutureWarning: \n",
      "\n",
      "Passing `palette` without assigning `hue` is deprecated and will be removed in v0.14.0. Assign the `x` variable to `hue` and set `legend=False` for the same effect.\n",
      "\n",
      "  sns.barplot(x=top5_categories.index, y=top5_categories.values, palette=\"Set3\");\n"
     ]
    },
    {
     "data": {
      "image/png": "[encoded data removed]",
      "text/plain": [
       "<Figure size 640x480 with 1 Axes>"
      ]
     },
     "metadata": {},
     "output_type": "display_data"
    }
   ],
   "source": [
    "sns.barplot(x=top5_categories.index, y=top5_categories.values, palette=\"Set3\");\n",
    "plt.show()"
   ]
  },
  {
   "cell_type": "code",
   "execution_count": 60,
   "id": "614e0a8e-b473-4244-bd5c-9e7d776f6313",
   "metadata": {},
   "outputs": [
    {
     "data": {
      "image/png": "[encoded data removed]",
      "text/plain": [
       "<Figure size 800x600 with 1 Axes>"
      ]
     },
     "metadata": {},
     "output_type": "display_data"
    }
   ],
   "source": [
    "\n",
    "# Graficar gráfico de pastel\n",
    "\n",
    "plt.figure(figsize=(8, 6))\n",
    "plt.pie(top5_categories, labels=top5_categories.index, autopct='%1.1f%%', startangle=140)\n",
    "plt.title('Proporciones de las 5 Principales Categorías')\n",
    "plt.axis('equal')  # Asegura que el gráfico sea un círculo perfecto\n",
    "plt.show()"
   ]
  },
  {
   "cell_type": "code",
   "execution_count": null,
   "id": "6034f2c6-ef08-4d44-a1bf-1f1c1d8748ea",
   "metadata": {},
   "outputs": [],
   "source": [
    "### Part 2: Delving into Product Pricing\n",
    "\n",
    "# **Business Question**: How are products priced on Amazon UK, and are there specific price points or ranges that are more common?\n",
    "\n",
    "# 1. **Measures of Centrality**:\n",
    "#  - Calculate the mean, median, and mode for the `price` of products.\n",
    "#   - What's the average price point of products listed? How does this compare with the most common price point (mode)?\n"
   ]
  },
  {
   "cell_type": "code",
   "execution_count": 64,
   "id": "33b96e8c-5318-4375-a96a-d7af8f38462c",
   "metadata": {},
   "outputs": [
    {
     "data": {
      "text/html": [
       "<div>\n",
       "<style scoped>\n",
       "    .dataframe tbody tr th:only-of-type {\n",
       "        vertical-align: middle;\n",
       "    }\n",
       "\n",
       "    .dataframe tbody tr th {\n",
       "        vertical-align: top;\n",
       "    }\n",
       "\n",
       "    .dataframe thead th {\n",
       "        text-align: right;\n",
       "    }\n",
       "</style>\n",
       "<table border=\"1\" class=\"dataframe\">\n",
       "  <thead>\n",
       "    <tr style=\"text-align: right;\">\n",
       "      <th></th>\n",
       "      <th>uid</th>\n",
       "      <th>stars</th>\n",
       "      <th>reviews</th>\n",
       "      <th>price</th>\n",
       "      <th>boughtInLastMonth</th>\n",
       "    </tr>\n",
       "  </thead>\n",
       "  <tbody>\n",
       "    <tr>\n",
       "      <th>count</th>\n",
       "      <td>2.443651e+06</td>\n",
       "      <td>2.443651e+06</td>\n",
       "      <td>2.443651e+06</td>\n",
       "      <td>2.443651e+06</td>\n",
       "      <td>2.443651e+06</td>\n",
       "    </tr>\n",
       "    <tr>\n",
       "      <th>mean</th>\n",
       "      <td>1.370545e+06</td>\n",
       "      <td>2.152836e+00</td>\n",
       "      <td>4.806278e+02</td>\n",
       "      <td>8.924381e+01</td>\n",
       "      <td>2.589699e+01</td>\n",
       "    </tr>\n",
       "    <tr>\n",
       "      <th>std</th>\n",
       "      <td>8.160562e+05</td>\n",
       "      <td>2.194865e+00</td>\n",
       "      <td>5.944124e+03</td>\n",
       "      <td>3.456089e+02</td>\n",
       "      <td>2.404837e+02</td>\n",
       "    </tr>\n",
       "    <tr>\n",
       "      <th>min</th>\n",
       "      <td>1.000000e+00</td>\n",
       "      <td>0.000000e+00</td>\n",
       "      <td>0.000000e+00</td>\n",
       "      <td>0.000000e+00</td>\n",
       "      <td>0.000000e+00</td>\n",
       "    </tr>\n",
       "    <tr>\n",
       "      <th>25%</th>\n",
       "      <td>6.589215e+05</td>\n",
       "      <td>0.000000e+00</td>\n",
       "      <td>0.000000e+00</td>\n",
       "      <td>9.990000e+00</td>\n",
       "      <td>0.000000e+00</td>\n",
       "    </tr>\n",
       "    <tr>\n",
       "      <th>50%</th>\n",
       "      <td>1.349029e+06</td>\n",
       "      <td>0.000000e+00</td>\n",
       "      <td>0.000000e+00</td>\n",
       "      <td>1.909000e+01</td>\n",
       "      <td>0.000000e+00</td>\n",
       "    </tr>\n",
       "    <tr>\n",
       "      <th>75%</th>\n",
       "      <td>2.060686e+06</td>\n",
       "      <td>4.400000e+00</td>\n",
       "      <td>5.900000e+01</td>\n",
       "      <td>4.599000e+01</td>\n",
       "      <td>0.000000e+00</td>\n",
       "    </tr>\n",
       "    <tr>\n",
       "      <th>max</th>\n",
       "      <td>2.828593e+06</td>\n",
       "      <td>5.000000e+00</td>\n",
       "      <td>1.356658e+06</td>\n",
       "      <td>1.000000e+05</td>\n",
       "      <td>5.000000e+04</td>\n",
       "    </tr>\n",
       "  </tbody>\n",
       "</table>\n",
       "</div>"
      ],
      "text/plain": [
       "                uid         stars       reviews         price  \\\n",
       "count  2.443651e+06  2.443651e+06  2.443651e+06  2.443651e+06   \n",
       "mean   1.370545e+06  2.152836e+00  4.806278e+02  8.924381e+01   \n",
       "std    8.160562e+05  2.194865e+00  5.944124e+03  3.456089e+02   \n",
       "min    1.000000e+00  0.000000e+00  0.000000e+00  0.000000e+00   \n",
       "25%    6.589215e+05  0.000000e+00  0.000000e+00  9.990000e+00   \n",
       "50%    1.349029e+06  0.000000e+00  0.000000e+00  1.909000e+01   \n",
       "75%    2.060686e+06  4.400000e+00  5.900000e+01  4.599000e+01   \n",
       "max    2.828593e+06  5.000000e+00  1.356658e+06  1.000000e+05   \n",
       "\n",
       "       boughtInLastMonth  \n",
       "count       2.443651e+06  \n",
       "mean        2.589699e+01  \n",
       "std         2.404837e+02  \n",
       "min         0.000000e+00  \n",
       "25%         0.000000e+00  \n",
       "50%         0.000000e+00  \n",
       "75%         0.000000e+00  \n",
       "max         5.000000e+04  "
      ]
     },
     "execution_count": 64,
     "metadata": {},
     "output_type": "execute_result"
    }
   ],
   "source": [
    "df.describe()"
   ]
  },
  {
   "cell_type": "code",
   "execution_count": 72,
   "id": "75b8f1e9-d20e-49ad-8c48-b8682483765a",
   "metadata": {},
   "outputs": [
    {
     "data": {
      "text/plain": [
       "(89.24380943923663,\n",
       " 19.09,\n",
       " 0    9.99\n",
       " Name: price, dtype: float64)"
      ]
     },
     "execution_count": 72,
     "metadata": {},
     "output_type": "execute_result"
    }
   ],
   "source": [
    "mean_price = df['price'].mean()\n",
    "median_price = df['price'].median()\n",
    "mode_price = df['price']. mode()\n",
    "\n",
    "mean_price, median_price, mode_price"
   ]
  },
  {
   "cell_type": "code",
   "execution_count": null,
   "id": "32d02817-1a51-421d-8842-1eda17c73ce4",
   "metadata": {},
   "outputs": [],
   "source": [
    "# 2. **Measures of Dispersion**:\n",
    "#    - Determine the variance, standard deviation, range, and interquartile range for product `price`.\n",
    "#    - How varied are the product prices? Are there any indicators of a significant spread in prices?\n"
   ]
  },
  {
   "cell_type": "code",
   "execution_count": 78,
   "id": "9c3a7acb-5208-4ab8-97c8-3979ffbaf901",
   "metadata": {},
   "outputs": [
    {
     "data": {
      "text/plain": [
       "(119445.48532256528,\n",
       " 345.60886175352226,\n",
       " 0.0,\n",
       " 100000.0,\n",
       " 100000.0,\n",
       " 0.25     9.99\n",
       " 0.50    19.09\n",
       " 0.75    45.99\n",
       " Name: price, dtype: float64)"
      ]
     },
     "execution_count": 78,
     "metadata": {},
     "output_type": "execute_result"
    }
   ],
   "source": [
    "variance_price = df['price'].var() \n",
    "std_dev_price = df['price'].std()\n",
    "min_price = df['price'].min()\n",
    "max_price = df['price'].max()\n",
    "range_price = max_price - min_price\n",
    "\n",
    "quantiles_price = df['price'].quantile([0.25, 0.5, 0.75])\n",
    "\n",
    "variance_price, std_dev_price, min_price, max_price, range_price, quantiles_price"
   ]
  },
  {
   "cell_type": "code",
   "execution_count": null,
   "id": "57f63f65-59bd-4ec1-88d6-b39be9807b5c",
   "metadata": {},
   "outputs": [],
   "source": [
    "# Basado en los valores y términos que has proporcionado, \n",
    "# parece que estás analizando las estadísticas de un conjunto de datos relacionado con precios (`price`). \n",
    "#Vamos a interpretar cada una de las métricas:\n",
    "\n",
    "### Estatísticas para Precios:\n",
    "\n",
    "#1. **Varianza (variance_price)**: `119445.48532256528`\n",
    "   #- La varianza mide la dispersión de los datos en relación con la media. \n",
    "    #Un valor tan alto sugiere que hay una gran variabilidad en los precios. Es probable que haya precios muy diferentes entre sí.\n",
    "\n",
    "#2. **Desviación Estándar (std_dev_price)**: `345.60886175352226`\n",
    "   #- La desviación estándar es la raíz cuadrada de la varianza. \n",
    " #Nos proporciona una medida de la cantidad típica en la que los precios difieren de la media. Un valor de 345.61 es bastante grande, lo que confirma que hay una variabilidad considerable.\n",
    "\n",
    "#3. **Precio Mínimo (min_price)**: `0.0`\n",
    "   #- Este es el menor precio registrado en tu conjunto de datos. Un valor mínimo de 0.0 podría implicar productos gratuitos o problemas con el ingreso de datos si no se espera que existan precios cero.\n",
    "\n",
    "#4. **Precio Máximo (max_price)**: `100000.0`\n",
    "  # - Este es el mayor precio registrado. El hecho de que sea tan alto comparado con el precio mínimo sugiere que hay productos o servicios muy costosos en el conjunto de datos.\n",
    "\n",
    "#5. **Rango (range_price)**: `100000.0`\n",
    "  # - Calculado como la diferencia entre el precio máximo y el mínimo (`max_price - min_price`), el rango muestra el intervalo total en el que se distribuyen los precios.\n",
    "\n",
    "#6. **Cuantiles (quantiles_price)**:\n",
    "  # - **0.25 (Primer Cuartil)**: `9.99`\n",
    "  # - **0.50 (Mediana/Segundo Cuartil)**: `19.09`\n",
    "  # - **0.75 (Tercer Cuartil)**: `45.99`\n",
    "     # - Estos valores dividen el conjunto de datos en cuatro partes iguales. \n",
    "     #El 25% de los datos está por debajo de 9.99, el 50% está por debajo de 19.09, y el 75% está por debajo de 45.99. \n",
    "     #Los cuantiles son útiles para entender la distribución de los datos y pueden sugerir que la mayoría de los productos son más económicos, con algunos productos caros que elevan el promedio.\n",
    "\n",
    "### Interpretación General\n",
    "\n",
    "#- **Varianza y Desviación Estándar Altas**: Sugieren una gran dispersión en los precios; posiblemente algunos precios extremos.\n",
    "#- **Rango Extenso**: Indica una diversidad significativa entre los productos más baratos y los más caros.\n",
    "#- **Cuantiles**: La mayoría de los precios están por debajo de 45.99, lo que sugiere que los productos caros son menos comunes.\n",
    "\n"
   ]
  },
  {
   "cell_type": "code",
   "execution_count": null,
   "id": "da1dbf33-14f6-4664-a6e6-56dc61421c11",
   "metadata": {},
   "outputs": [],
   "source": [
    "# 3. **Visualizations**:\n",
    "#   - Is there a specific price range where most products fall? \n",
    " #Plot a histogram to visualize the distribution of product prices. *If its hard to read these diagrams, \n",
    "#think why this is, and explain how it could be solved.*.\n",
    "#    - Are there products that are priced significantly higher than the rest? \n",
    "#Use a box plot to showcase the spread and potential outliers in product pricing. \n"
   ]
  },
  {
   "cell_type": "code",
   "execution_count": 80,
   "id": "dae110ca-9a88-479c-ab8b-e718a29c7ca0",
   "metadata": {},
   "outputs": [
    {
     "data": {
      "image/png": "[encoded data removed]",
      "text/plain": [
       "<Figure size 640x480 with 1 Axes>"
      ]
     },
     "metadata": {},
     "output_type": "display_data"
    }
   ],
   "source": [
    "sns.histplot(df['price'], kde=True, bins=30, color=\"salmon\")\n",
    "plt.show()"
   ]
  },
  {
   "cell_type": "code",
   "execution_count": null,
   "id": "38778345-e39f-410b-9843-5dc6ccd29e37",
   "metadata": {},
   "outputs": [],
   "source": [
    "### Part 3: Unpacking Product Ratings\n",
    "\n",
    "# **Business Question**: How do customers rate products on Amazon UK, and are there any patterns or tendencies in the ratings?\n",
    "\n",
    "# 1. **Measures of Centrality**:\n",
    "  #  - Calculate the mean, median, and mode for the `rating` of products.\n",
    "#    - How do customers generally rate products? Is there a common trend?\n"
   ]
  },
  {
   "cell_type": "code",
   "execution_count": 84,
   "id": "53bdf657-ed6b-4c04-9cd1-0027db5c789b",
   "metadata": {},
   "outputs": [
    {
     "data": {
      "text/plain": [
       "Index(['uid', 'asin', 'title', 'stars', 'reviews', 'price', 'isBestSeller',\n",
       "       'boughtInLastMonth', 'category'],\n",
       "      dtype='object')"
      ]
     },
     "execution_count": 84,
     "metadata": {},
     "output_type": "execute_result"
    }
   ],
   "source": [
    "df.columns"
   ]
  },
  {
   "cell_type": "code",
   "execution_count": 88,
   "id": "bf581385-d57f-4688-b49a-6e7a9d140342",
   "metadata": {},
   "outputs": [
    {
     "data": {
      "text/plain": [
       "(2.152836472966065,\n",
       " 0.0,\n",
       " 0    0.0\n",
       " Name: stars, dtype: float64)"
      ]
     },
     "execution_count": 88,
     "metadata": {},
     "output_type": "execute_result"
    }
   ],
   "source": [
    "mean_stars = df['stars'].mean()\n",
    "median_stars = df['stars'].median()\n",
    "mode_stars = df['stars']. mode()\n",
    "\n",
    "mean_stars, median_stars, mode_stars"
   ]
  },
  {
   "cell_type": "code",
   "execution_count": null,
   "id": "afcdd4be-14b6-45f1-9ca8-fc902560dd94",
   "metadata": {},
   "outputs": [],
   "source": [
    "#Media (mean): 2.152836472966065\n",
    "\n",
    "#Interpretación: La media indica el promedio de las calificaciones de los productos. Una calificación promedio de algo más de 2 sugiere que, en general, los clientes están dando una calificación por debajo de la mitad del valor máximo posible (asumiendo un rango común de calificación de 0 a 5 estrellas), lo que podría indicar una satisfacción moderada o problemas en algunos productos.\n"
   ]
  },
  {
   "cell_type": "code",
   "execution_count": null,
   "id": "cd7aa289-df54-496a-934f-c71a06d840a5",
   "metadata": {},
   "outputs": [],
   "source": [
    "#Mediana (median): 0.0\n",
    "\n",
    "#Interpretación: La mediana es el valor que divide el conjunto de calificaciones en dos partes iguales. Aquí, una mediana de 0 indica que más del 50% de los productos tienen calificaciones de 0. Esto podría indicar que algunos productos no han sido calificados en absoluto o han recibido reseñas muy deficientes."
   ]
  },
  {
   "cell_type": "code",
   "execution_count": null,
   "id": "15cc145f-f451-4f7e-823c-db94f3c6ba93",
   "metadata": {},
   "outputs": [],
   "source": [
    "#Moda (mode): 0.0\n",
    "\n",
    "#Interpretación: La moda representa la calificación más frecuente. El hecho de que la moda sea 0 refuerza la idea de que la calificación de 0 es la más común entre los productos. Esto es consistente con la mediana, sugiriendo que existe una gran cantidad de productos que no han recibido calificaciones positivas o están no evaluados."
   ]
  },
  {
   "cell_type": "code",
   "execution_count": null,
   "id": "63007791-52a8-447e-8487-5769ae25a9e8",
   "metadata": {},
   "outputs": [],
   "source": [
    "# Para investigar más a fondo el comportamiento de las calificaciones de productos, \n",
    "#especialmente fijando el foco en los productos que no están calificados o tienen calificaciones bajas, \n",
    "#podemos realizar algunos análisis adicionales y visualizaciones."
   ]
  },
  {
   "cell_type": "code",
   "execution_count": 94,
   "id": "e3830274-93ff-43d3-a440-74ba34e32c08",
   "metadata": {},
   "outputs": [
    {
     "name": "stdout",
     "output_type": "stream",
     "text": [
      "Porcentaje de productos no calificados: 50.16%\n"
     ]
    }
   ],
   "source": [
    "#CALCULAR EL TOTAL DE PRODUCTOS NO CALIFICADOS PARA ENTENDER MEAN, MEDIAN, MODE\n",
    "# Calcular el número total de productos\n",
    "total_productos = len(df)\n",
    "\n",
    "# Calcular el número de productos no calificados\n",
    "productos_no_calificados = df[df['stars'] == 0].shape[0]\n",
    "\n",
    "# Calcular el porcentaje de productos no calificados\n",
    "porcentaje_no_calificados = (productos_no_calificados / total_productos) * 100\n",
    "\n",
    "print(f\"Porcentaje de productos no calificados: {porcentaje_no_calificados:.2f}%\")"
   ]
  },
  {
   "cell_type": "code",
   "execution_count": null,
   "id": "fa2882fe-be96-4e71-8866-b08cfdefba32",
   "metadata": {},
   "outputs": [],
   "source": [
    "# 2. **Measures of Dispersion**:\n",
    "#    - Determine the variance, standard deviation, and interquartile range for product `rating`.\n",
    "#    - Are the ratings consistent, or is there a wide variation in customer feedback?\n"
   ]
  },
  {
   "cell_type": "code",
   "execution_count": 92,
   "id": "3948c9b6-90c6-4297-bbaf-63e6877408a5",
   "metadata": {},
   "outputs": [
    {
     "data": {
      "text/plain": [
       "(4.81743402976196,\n",
       " 2.1948653785054697,\n",
       " 0.0,\n",
       " 5.0,\n",
       " 5.0,\n",
       " 0.25    0.0\n",
       " 0.50    0.0\n",
       " 0.75    4.4\n",
       " Name: stars, dtype: float64)"
      ]
     },
     "execution_count": 92,
     "metadata": {},
     "output_type": "execute_result"
    }
   ],
   "source": [
    "variance_stars = df['stars'].var() \n",
    "std_dev_stars = df['stars'].std()\n",
    "min_stars = df['stars'].min()\n",
    "max_stars = df['stars'].max()\n",
    "range_stars = max_stars - min_stars\n",
    "quantiles_stars = df['stars'].quantile([0.25, 0.5, 0.75])\n",
    "\n",
    "variance_stars, std_dev_stars, min_stars, max_stars, range_stars, quantiles_stars"
   ]
  },
  {
   "cell_type": "code",
   "execution_count": null,
   "id": "4dc870d0-5083-4c76-8c56-c8ef8ae80f4c",
   "metadata": {},
   "outputs": [],
   "source": [
    "#3. **Shape of the Distribution**:\n",
    "#    - Calculate the skewness and kurtosis for the `rating` column. \n",
    "#   - Are the ratings normally distributed, or do they lean towards higher or lower values?\n"
   ]
  },
  {
   "cell_type": "code",
   "execution_count": 98,
   "id": "2e4bcc30-1291-4f89-8274-5365f92ccf57",
   "metadata": {},
   "outputs": [
    {
     "data": {
      "text/plain": [
       "0.08120735761080985"
      ]
     },
     "execution_count": 98,
     "metadata": {},
     "output_type": "execute_result"
    }
   ],
   "source": [
    "skewness_stars = df['stars'].skew()\n",
    "skewness_stars"
   ]
  },
  {
   "cell_type": "code",
   "execution_count": null,
   "id": "1227f33c-12cf-4ab7-90e9-2df648310966",
   "metadata": {},
   "outputs": [],
   "source": [
    "##La **asimetría** (skewness) es una medida estadística que describe el grado de distorsión o asimetría de una distribución de datos con respecto a una distribución normal. La asimetría cuantifica cuán sesgada está una distribución hacia la izquierda o hacia la derecha.\n",
    "\n",
    "### Interpretación del Valor de Asimetría\n",
    "\n",
    "##Para el valor que has proporcionado, `skewness_stars = 0.08120735761080985`, aquí está la interpretación:\n",
    "\n",
    "#- **Cerca de Cero**: Un valor de asimetría cercano a cero, como el que tienes (0.081), indica que la distribución de las calificaciones (`stars`) es aproximadamente simétrica. Esto sugiere que no hay una desviación significativa hacia valores más altos o más bajos.\n",
    "  \n",
    "#- **Positivo**: Un valor de asimetría positivo, aunque cercano a cero, indica una ligera tendencia hacia valores más altos dentro de la distribución. Quiere decir que hay una pequeña inclinación a tener calificaciones más altas.\n",
    "\n",
    "\n",
    "### Contexto y Consideración\n",
    "\n",
    "#- **Simetría Ideal**: Una asimetría de exactamente cero sería una distribución perfectamente simétrica, como una distribución normal.\n",
    "\n",
    "#- **Comparación con la Mediana y la Media**: Para comprobar cómo se comporta la asimetría en la práctica, puedes considerar cómo la media y la mediana se relacionan:\n",
    " # - Si la media es ligeramente superior a la mediana, esto puede confirmar el leve valor positivo de asimetría.\n",
    "\n",
    "#- **Validez del Resultado**: Incluso cuando la asimetría es cercana a cero, siempre es bueno correlacionar este resultado con histogramas o gráficos de densidad de calificaciones para confirmar visualmente estos indicadores numéricos.\n",
    "\n",
    "#Este análisis sugiere que a pesar de algunas variaciones, \n",
    "    #las calificaciones están distribuidas de manera bastante uniforme alrededor de una media central. \n",
    "     "
   ]
  },
  {
   "cell_type": "code",
   "execution_count": 100,
   "id": "9b9699c3-a20b-4ee5-a616-6ef9f6a27f96",
   "metadata": {},
   "outputs": [
    {
     "data": {
      "text/plain": [
       "-1.9260061280432985"
      ]
     },
     "execution_count": 100,
     "metadata": {},
     "output_type": "execute_result"
    }
   ],
   "source": [
    "kurtosis_stars = df['stars'].kurtosis()\n",
    "kurtosis_stars"
   ]
  },
  {
   "cell_type": "code",
   "execution_count": null,
   "id": "843e0b58-6729-42fa-9aaa-f9e459b2fb3f",
   "metadata": {},
   "outputs": [],
   "source": [
    "#4. **Visualizations**:\n",
    " #   - Plot a histogram to visualize the distribution of product ratings. Is there a specific rating that is more common?\n"
   ]
  },
  {
   "cell_type": "code",
   "execution_count": 102,
   "id": "f05bfbf7-953e-48f7-aa16-4f9c0fc8c26a",
   "metadata": {},
   "outputs": [
    {
     "data": {
      "image/png": "[encoded data removed]",
      "text/plain": [
       "<Figure size 640x480 with 1 Axes>"
      ]
     },
     "metadata": {},
     "output_type": "display_data"
    }
   ],
   "source": [
    "sns.histplot(df['stars'], kde=True, bins=30, color=\"salmon\")\n",
    "plt.show()"
   ]
  },
  {
   "cell_type": "code",
   "execution_count": 104,
   "id": "fa46f27e-2217-47c3-b1bd-31111441d5d3",
   "metadata": {},
   "outputs": [
    {
     "data": {
      "image/png": "[encoded data removed]",
      "text/plain": [
       "<Figure size 1000x600 with 1 Axes>"
      ]
     },
     "metadata": {},
     "output_type": "display_data"
    }
   ],
   "source": [
    "#Otro codigo para histograma:\n",
    "\n",
    "# Supongamos que 'df' es tu DataFrame y 'stars' es tu columna de calificación\n",
    "plt.figure(figsize=(10, 6))\n",
    "sns.histplot(df['stars'], bins=50, kde=True, color='blue')\n",
    "\n",
    "# Configuración de etiquetas y título del gráfico\n",
    "plt.title('Distribución de Calificaciones de Productos')\n",
    "plt.xlabel('Calificación')\n",
    "plt.ylabel('Número de Productos')\n",
    "plt.show()"
   ]
  },
  {
   "cell_type": "code",
   "execution_count": 106,
   "id": "a30cbc59-8ab2-4645-8ea6-52b8847524bb",
   "metadata": {},
   "outputs": [
    {
     "data": {
      "image/png": "[encoded data removed]",
      "text/plain": [
       "<Figure size 800x400 with 1 Axes>"
      ]
     },
     "metadata": {},
     "output_type": "display_data"
    }
   ],
   "source": [
    "#Un gráfico de caja (boxplot) te permite ver la mediana, cuartiles y detectar posibles valores atípicos.\n",
    "\n",
    "plt.figure(figsize=(8, 4))\n",
    "sns.boxplot(x=df['stars'], color='green')\n",
    "\n",
    "# Configuración del título y etiquetas\n",
    "plt.title('Boxplot de Calificaciones de Productos')\n",
    "plt.xlabel('Calificación')\n",
    "plt.show()"
   ]
  },
  {
   "cell_type": "code",
   "execution_count": null,
   "id": "7b8e125c-5b90-4cf8-b955-44dcd90115b2",
   "metadata": {},
   "outputs": [],
   "source": []
  }
 ],
 "metadata": {
  "kernelspec": {
   "display_name": "Python 3 (ipykernel)",
   "language": "python",
   "name": "python3"
  },
  "language_info": {
   "codemirror_mode": {
    "name": "ipython",
    "version": 3
   },
   "file_extension": ".py",
   "mimetype": "text/x-python",
   "name": "python",
   "nbconvert_exporter": "python",
   "pygments_lexer": "ipython3",
   "version": "3.12.7"
  }
 },
 "nbformat": 4,
 "nbformat_minor": 5
}
